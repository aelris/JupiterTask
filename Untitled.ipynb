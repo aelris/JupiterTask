{
 "cells": [
  {
   "cell_type": "code",
   "execution_count": 7,
   "metadata": {},
   "outputs": [
    {
     "data": {
      "text/plain": [
       "inputRDD = littletrain.csv MapPartitionsRDD[43] at textFile at <console>:33\n"
      ]
     },
     "metadata": {},
     "output_type": "display_data"
    },
    {
     "data": {
      "text/plain": [
       "littletrain.csv MapPartitionsRDD[43] at textFile at <console>:33"
      ]
     },
     "execution_count": 7,
     "metadata": {},
     "output_type": "execute_result"
    }
   ],
   "source": [
    "import org.apache.spark.rdd.RDD\n",
    "/** using predefined in Notebook SparkContext\n",
    "  * start point*/\n",
    "   /**reading text file*/\n",
    " val inputRDD: RDD[String] = sc.textFile(\"littletrain.csv\")\n"
   ]
  },
  {
   "cell_type": "code",
   "execution_count": 8,
   "metadata": {},
   "outputs": [
    {
     "data": {
      "text/plain": [
       "is_booked = 18\n",
       "hotel_continent = 20\n",
       "hotel_country = 21\n",
       "hotel_market = 22\n",
       "srch_adults_cnt = 13\n"
      ]
     },
     "metadata": {},
     "output_type": "display_data"
    },
    {
     "data": {
      "text/plain": [
       "13"
      ]
     },
     "execution_count": 8,
     "metadata": {},
     "output_type": "execute_result"
    }
   ],
   "source": [
    "  /**Variables for indexes in RDD[Array[String]] in next two cells */\n",
    "  val is_booked = 18\n",
    "  val hotel_continent = 20\n",
    "  val hotel_country = 21\n",
    "  val hotel_market = 22\n",
    "  val srch_adults_cnt = 13"
   ]
  },
  {
   "cell_type": "code",
   "execution_count": 9,
   "metadata": {},
   "outputs": [
    {
     "data": {
      "text/plain": [
       "noHeaderCouplesRDD = MapPartitionsRDD[46] at map at <console>:38\n"
      ]
     },
     "metadata": {},
     "output_type": "display_data"
    },
    {
     "data": {
      "text/plain": [
       "single: (line: String)Boolean\n",
       "isHeaderCsv: (line: String)Boolean\n"
      ]
     },
     "metadata": {},
     "output_type": "display_data"
    },
    {
     "data": {
      "text/plain": [
       "MapPartitionsRDD[46] at map at <console>:38"
      ]
     },
     "execution_count": 9,
     "metadata": {},
     "output_type": "execute_result"
    }
   ],
   "source": [
    "/**creating two methods (single, isHeaderCsv) to filter RDD[String] and split into RDD[Array[String]] by comma*/\n",
    "def single(line: String): Boolean  = line(srch_adults_cnt).toInt < 2\n",
    "def isHeaderCsv(line: String): Boolean = line.startsWith(\"date_time\")\n",
    " val noHeaderCouplesRDD: RDD[Array[String]] = inputRDD.filter(!isHeaderCsv(_)).filter(!single(_))\n",
    "    .map(_.split(\",\"))\n"
   ]
  },
  {
   "cell_type": "code",
   "execution_count": 10,
   "metadata": {},
   "outputs": [
    {
     "data": {
      "text/plain": [
       "parsedRDD = MapPartitionsRDD[47] at map at <console>:35\n"
      ]
     },
     "metadata": {},
     "output_type": "display_data"
    },
    {
     "data": {
      "text/plain": [
       "MapPartitionsRDD[47] at map at <console>:35"
      ]
     },
     "execution_count": 10,
     "metadata": {},
     "output_type": "execute_result"
    }
   ],
   "source": [
    " /** columns: is_booked = 18, hotel_continent = 20, val hotel_country = 21, val hotel_market = 22*/\n",
    " val parsedRDD: RDD[(Int, (Int, Int, Int))] = noHeaderCouplesRDD.map(line =>{\n",
    "    (1, (line(hotel_continent).toInt, line(hotel_country).toInt, line(hotel_market).toInt))})"
   ]
  },
  {
   "cell_type": "code",
   "execution_count": 11,
   "metadata": {},
   "outputs": [
    {
     "data": {
      "text/plain": [
       "mapRDD = MapPartitionsRDD[48] at map at <console>:30\n"
      ]
     },
     "metadata": {},
     "output_type": "display_data"
    },
    {
     "data": {
      "text/plain": [
       "MapPartitionsRDD[48] at map at <console>:30"
      ]
     },
     "execution_count": 11,
     "metadata": {},
     "output_type": "execute_result"
    }
   ],
   "source": [
    "/** swapping key and values from Int,(Int,Int,Int) to (Int,Int,Int),Int*/\n",
    " val mapRDD = parsedRDD.map(_.swap)"
   ]
  },
  {
   "cell_type": "code",
   "execution_count": 12,
   "metadata": {},
   "outputs": [
    {
     "data": {
      "text/plain": [
       "initialCount = 0\n",
       "addToCounts = > Int = <function2>\n",
       "sumPartitionCounts = > Int = <function2>\n",
       "countByKey = MapPartitionsRDD[54] at sortBy at <console>:35\n"
      ]
     },
     "metadata": {},
     "output_type": "display_data"
    },
    {
     "data": {
      "text/plain": [
       "MapPartitionsRDD[54] at sortBy at <console>:35"
      ]
     },
     "execution_count": 12,
     "metadata": {},
     "output_type": "execute_result"
    }
   ],
   "source": [
    "/** counting our values(\"1\" for each key) in parsedRDD */\n",
    " val initialCount = 0\n",
    " val addToCounts = (n: Int, v: Int) => n+v\n",
    " val sumPartitionCounts = (p1: Int, p2: Int) => p1 + p2\n",
    "\n",
    " val countByKey = mapRDD.aggregateByKey(initialCount)(addToCounts, sumPartitionCounts)\n",
    "    .sortBy(_._2,false)"
   ]
  },
  {
   "cell_type": "code",
   "execution_count": 13,
   "metadata": {},
   "outputs": [
    {
     "name": "stdout",
     "output_type": "stream",
     "text": [
      "((3,151,69),37)\n",
      "((2,50,680),21)\n",
      "((2,50,191),9)\n"
     ]
    }
   ],
   "source": [
    "/** getting result*/  \n",
    "countByKey.take(3).foreach(println)"
   ]
  },
  {
   "cell_type": "code",
   "execution_count": null,
   "metadata": {},
   "outputs": [],
   "source": []
  }
 ],
 "metadata": {
  "kernelspec": {
   "display_name": "Apache Toree - Scala",
   "language": "scala",
   "name": "apache_toree_scala"
  },
  "language_info": {
   "codemirror_mode": "text/x-scala",
   "file_extension": ".scala",
   "mimetype": "text/x-scala",
   "name": "scala",
   "pygments_lexer": "scala",
   "version": "2.11.12"
  }
 },
 "nbformat": 4,
 "nbformat_minor": 2
}
